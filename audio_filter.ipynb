{
 "cells": [
  {
   "cell_type": "code",
   "execution_count": null,
   "metadata": {},
   "outputs": [],
   "source": [
    "from scipy.io import wavfile\n",
    "import numpy as np\n",
    "from matplotlib import pyplot as plt\n",
    "from scipy.fft import irfft, rfft, rfftfreq\n",
    "\n",
    "# The vocal_filter function accepts .wav file path, samplerate, duration of song, and the low and high portions of the frequency band to be filtered.\n",
    "# It then writes a new .wav file that has been filtered of the frequencies within the range specified.\n",
    "# It's necessary to specify the vocal frequency range since each song has its own unique vocal frequencies.\n",
    "\n",
    "def vocal_filter(file_path, low_band, high_band):\n",
    "  sample_rate, audio = wavfile.read(file_path) # load in song data\n",
    "  signal = audio[:,0] # create signal from only one of the channels\n",
    "\n",
    "  normalized_tone = np.int16((signal / signal.max()) * 32767) # normalize the signal\n",
    "\n",
    "  yf = rfft(normalized_tone) #use fourier transform to look the the frequency domain\n",
    "\n",
    "  yf[low_band:high_band] = 0 #filter out the frequencies \n",
    "\n",
    "  new_sig = irfft(yf) #use inverse fourier transform to bring it back into the time domain\n",
    "\n",
    "  norm_new_sig = np.int16(new_sig * (32767 / new_sig.max()))\n",
    "\n",
    "  wavfile.write(\"filtered_song.wav\", sample_rate, norm_new_sig)\n",
    "\n",
    "vocal_filter('Hurt.wav', 50000, 700000)"
   ]
  }
 ],
 "metadata": {
  "language_info": {
   "name": "python"
  },
  "orig_nbformat": 4
 },
 "nbformat": 4,
 "nbformat_minor": 2
}
